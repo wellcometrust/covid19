{
 "cells": [
  {
   "cell_type": "code",
   "execution_count": 15,
   "metadata": {},
   "outputs": [],
   "source": [
    "import pandas as pd"
   ]
  },
  {
   "cell_type": "code",
   "execution_count": 16,
   "metadata": {},
   "outputs": [],
   "source": [
    "df = pd.read_csv('../data/processed/answers_consolidated.csv', encoding='ISO-8859-1')"
   ]
  },
  {
   "cell_type": "code",
   "execution_count": 17,
   "metadata": {},
   "outputs": [
    {
     "data": {
      "text/plain": [
       "not_best_answer    34\n",
       "best_answer        25\n",
       "not_relevant       23\n",
       "not relevant       19\n",
       "not best answer    14\n",
       "best answer        14\n",
       "unclear             4\n",
       "ignore              1\n",
       "Name: Is best passage, dtype: int64"
      ]
     },
     "execution_count": 17,
     "metadata": {},
     "output_type": "execute_result"
    }
   ],
   "source": [
    "df['Is best passage'].value_counts()"
   ]
  },
  {
   "cell_type": "code",
   "execution_count": 18,
   "metadata": {},
   "outputs": [],
   "source": [
    "df['Is best passage'] = df['Is best passage'].apply(lambda x: str(x).replace(' ', '_'))"
   ]
  },
  {
   "cell_type": "code",
   "execution_count": 53,
   "metadata": {},
   "outputs": [
    {
     "name": "stdout",
     "output_type": "stream",
     "text": [
      "task_id: 0, relevance: 65.22%, good_answer_ratio: 40.00\n",
      "task_id: 1, relevance: 85.00%, good_answer_ratio: 52.94\n",
      "task_id: 2, relevance: 52.63%, good_answer_ratio: 10.00\n",
      "task_id: 3, relevance: 70.00%, good_answer_ratio: 57.14\n",
      "task_id: 4, relevance: 85.71%, good_answer_ratio: 66.67\n",
      "task_id: 5, relevance: 66.67%, good_answer_ratio: 30.00\n",
      "task_id: 6, relevance: 75.00%, good_answer_ratio: 100.00\n",
      "task_id: 7, relevance: 18.18%, good_answer_ratio: 0.00\n"
     ]
    }
   ],
   "source": [
    "for task_id in [0, 1, 2, 3, 4, 5, 6, 7]:\n",
    "    df_task = df[df['task_id'] == task_id]\n",
    "    vals = df_task['Is best passage'].value_counts()/len(df_task)\n",
    "    relevance = (vals.get('not_best_answer', 0) + vals.get('best_answer', 0))/(vals.get('not_best_answer', 0) + vals.get('best_answer', 0)+vals.get('not_relevant', 0))\n",
    "    good_answer_ratio = (vals.get('best_answer', 0))/(vals.get('not_best_answer', 0) + vals.get('best_answer', 0))\n",
    "    \n",
    "    print(f\"task_id: {task_id}, relevance: {100*relevance:.2f}%, good_answer_ratio: {100*good_answer_ratio:.2f}\")"
   ]
  },
  {
   "cell_type": "code",
   "execution_count": 38,
   "metadata": {},
   "outputs": [
    {
     "data": {
      "text/plain": [
       "not_best_answer    0.320000\n",
       "not_relevant       0.280000\n",
       "best_answer        0.260000\n",
       "nan                0.106667\n",
       "unclear            0.026667\n",
       "ignore             0.006667\n",
       "Name: Is best passage, dtype: float64"
      ]
     },
     "execution_count": 38,
     "metadata": {},
     "output_type": "execute_result"
    }
   ],
   "source": [
    "vals = df_task['Is best passage'].value_counts()/len(df_task)\n",
    "relevance = (vals.get('not_best_answer', 0) + vals.get('best_answer', 0))/(vals.get('not_best_answer', 0) + vals.get('best_answer', 0)+vals.get('not_relevant', 0))\n",
    "good_answer_ratio = (vals.get('best_answer', 0))/(vals.get('not_best_answer', 0) + vals.get('best_answer', 0))\n",
    "\n",
    "print(f\"Total - relevance: {100*relevance:.2f}%, good_answer_ratio: {100*good_answer_ratio:.2f}\")"
   ]
  },
  {
   "cell_type": "code",
   "execution_count": null,
   "metadata": {},
   "outputs": [],
   "source": []
  }
 ],
 "metadata": {
  "kernelspec": {
   "display_name": "Python 3",
   "language": "python",
   "name": "python3"
  },
  "language_info": {
   "codemirror_mode": {
    "name": "ipython",
    "version": 3
   },
   "file_extension": ".py",
   "mimetype": "text/x-python",
   "name": "python",
   "nbconvert_exporter": "python",
   "pygments_lexer": "ipython3",
   "version": "3.7.6"
  }
 },
 "nbformat": 4,
 "nbformat_minor": 4
}
