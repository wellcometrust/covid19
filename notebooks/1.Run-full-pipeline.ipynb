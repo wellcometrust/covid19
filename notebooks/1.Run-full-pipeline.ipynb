{
 "cells": [
  {
   "cell_type": "code",
   "execution_count": 3,
   "metadata": {},
   "outputs": [
    {
     "name": "stdout",
     "output_type": "stream",
     "text": [
      "The autoreload extension is already loaded. To reload it, use:\n",
      "  %reload_ext autoreload\n"
     ]
    }
   ],
   "source": [
    "%load_ext autoreload\n",
    "%autoreload 2\n",
    "\n",
    "# To be able to load covid from upper level directory\n",
    "import sys\n",
    "sys.path.append(\"..\")\n",
    "\n",
    "from covid import question_covid, download_scibert\n",
    "from sklearn.metrics.pairwise import cosine_similarity\n",
    "from wasabi import msg"
   ]
  },
  {
   "cell_type": "code",
   "execution_count": 4,
   "metadata": {},
   "outputs": [
    {
     "name": "stdout",
     "output_type": "stream",
     "text": [
      "/Users/campea/covid19/models/scibert\n",
      "\u001b[38;5;2m✔ Found scibert cache!\u001b[0m\n"
     ]
    }
   ],
   "source": [
    "download_scibert.download_scibert()"
   ]
  },
  {
   "cell_type": "code",
   "execution_count": 7,
   "metadata": {},
   "outputs": [
    {
     "name": "stdout",
     "output_type": "stream",
     "text": [
      "\u001b[2K Loading BERT\u001b[38;5;2m✔    BERT loaded\u001b[0m\n",
      "\u001b[2K Loading publications\u001b[38;5;2m✔    Publications loaded - Took 387.89s\u001b[0m\n"
     ]
    },
    {
     "data": {
      "application/vnd.jupyter.widget-view+json": {
       "model_id": "2417c427be6a4f8baacce9c548b7e191",
       "version_major": 2,
       "version_minor": 0
      },
      "text/plain": [
       "HBox(children=(FloatProgress(value=0.0, description='Downloading', max=230.0, style=ProgressStyle(description_…"
      ]
     },
     "metadata": {},
     "output_type": "display_data"
    },
    {
     "name": "stdout",
     "output_type": "stream",
     "text": [
      "\n",
      "\u001b[2K Fitting TFIDF\u001b[38;5;2m✔    TFIDF fitted - Took 10.53s\u001b[0m\n",
      "\u001b[2K Creating Articles matrix\u001b[38;5;2m✔    Article matrix created - Took 10.07s\u001b[0m\n"
     ]
    }
   ],
   "source": [
    "covid_q = question_covid.train()"
   ]
  },
  {
   "cell_type": "code",
   "execution_count": 8,
   "metadata": {},
   "outputs": [],
   "source": [
    "question = \"How long can the 2019-nCoV virus remain viable on common surfaces?\""
   ]
  },
  {
   "cell_type": "code",
   "execution_count": 17,
   "metadata": {},
   "outputs": [
    {
     "name": "stderr",
     "output_type": "stream",
     "text": [
      "100%|██████████| 14/14 [00:20<00:00,  1.43s/it]\n",
      "  0%|          | 0/50 [00:00<?, ?it/s]"
     ]
    },
    {
     "name": "stdout",
     "output_type": "stream",
     "text": [
      "('23d9ab8478954d685ad2320ab407a5b451877139', 'No answer', 0, 'No snippet', 0.24586698188453376, array([0.9150561], dtype=float32))\n"
     ]
    },
    {
     "name": "stderr",
     "output_type": "stream",
     "text": [
      "100%|██████████| 50/50 [00:53<00:00,  1.08s/it]\n",
      "  0%|          | 0/50 [00:00<?, ?it/s]"
     ]
    },
    {
     "name": "stdout",
     "output_type": "stream",
     "text": [
      "('8699664d8100af1e701e25daeb8a4fced18a3daf', '10 days', 4.04, ' However, SARS-CoV had an aberrant trait that the \"viral load\" in upper respiratory tract secretions was low in the first 5 days of illness, then increased progressively and peaked early in the second week. Consequently, the transmission rate was relatively low in the first days of illness, providing an opportunity for case detection and isolation to interrupt transmission. On the contrary, for 2019-nCoV, the incubation lasts for an average of 10 days (in a reported range of 2e14 days) from infection to symptoms surfacing [2, 4, 17, 20] ', 0.25374717129618873, array([0.9112768], dtype=float32))\n"
     ]
    },
    {
     "name": "stderr",
     "output_type": "stream",
     "text": [
      "100%|██████████| 50/50 [00:59<00:00,  1.20s/it]\n",
      "  0%|          | 0/17 [00:00<?, ?it/s]"
     ]
    },
    {
     "name": "stdout",
     "output_type": "stream",
     "text": [
      "('98222351ab70f5fefc0258b92ac7b66c08f66ff6', '10 days', 4.04, ' However, SARS-CoV had an aberrant trait that the \"viral load\" in upper respiratory tract secretions was low in the first 5 days of illness, then increased progressively and peaked early in the second week. Consequently, the transmission rate was relatively low in the first days of illness, providing an opportunity for case detection and isolation to interrupt transmission. On the contrary, for 2019-nCoV, the incubation lasts for an average of 10 days (in a reported range of 2e14 days) from infection to symptoms surfacing [2, 4, 17, 20] ', 0.25374717129618873, array([0.9112768], dtype=float32))\n"
     ]
    },
    {
     "name": "stderr",
     "output_type": "stream",
     "text": [
      "100%|██████████| 17/17 [00:17<00:00,  1.03s/it]\n",
      "  0%|          | 0/46 [00:00<?, ?it/s]"
     ]
    },
    {
     "name": "stdout",
     "output_type": "stream",
     "text": [
      "('fbe9a5450af79b87fb9737b929add7b022439176', 'No answer', 0, 'No snippet', 0.24480098169105066, array([0.9080342], dtype=float32))\n"
     ]
    },
    {
     "name": "stderr",
     "output_type": "stream",
     "text": [
      "100%|██████████| 46/46 [00:48<00:00,  1.06s/it]"
     ]
    },
    {
     "name": "stdout",
     "output_type": "stream",
     "text": [
      "('c96d7a3ef7e994992559bfe6b22d0e8c892c255c', '2 h', 5.45, ' 13 , 17 However, intermediate host is likely to exist between bats and humans which is similar to masked palm civet for SARS-CoV35 and dromedary camels for MERS-CoV. The newest research suspected pangolins are potential intermediate hosts for novel coronavirus but may not the only. Epidemiologically, 2019-nCoV is highly infectious with about 2 h survive time in the air', 0.24338454122296788, array([0.907454], dtype=float32))\n"
     ]
    },
    {
     "name": "stderr",
     "output_type": "stream",
     "text": [
      "\n"
     ]
    }
   ],
   "source": [
    "for answer in covid_q.predict(question):\n",
    "    print(answer)"
   ]
  },
  {
   "cell_type": "code",
   "execution_count": 15,
   "metadata": {},
   "outputs": [
    {
     "name": "stderr",
     "output_type": "stream",
     "text": [
      "100%|██████████| 32/32 [00:25<00:00,  1.27it/s]\n",
      "  0%|          | 0/14 [00:00<?, ?it/s]"
     ]
    },
    {
     "name": "stdout",
     "output_type": "stream",
     "text": [
      "('984eadbbf4721358284d04dac03f26a28cbe0a8c', 'if r 0 equals 1', 1.6, \" If R 0 equals 1, the disease will stay alive, but there won't be an epidemic. 3. If R 0 is greater than 1, cases could grow exponentially and cause an epidemic or even a pandemic\", 0.24042897925772833, array([[0.91535026]], dtype=float32))\n"
     ]
    },
    {
     "name": "stderr",
     "output_type": "stream",
     "text": [
      "100%|██████████| 14/14 [00:14<00:00,  1.04s/it]\n",
      "  0%|          | 0/31 [00:00<?, ?it/s]"
     ]
    },
    {
     "name": "stdout",
     "output_type": "stream",
     "text": [
      "('23d9ab8478954d685ad2320ab407a5b451877139', 'No answer', 0, 'No snippet', 0.24586698188453376, array([[0.9150561]], dtype=float32))\n"
     ]
    },
    {
     "name": "stderr",
     "output_type": "stream",
     "text": [
      "100%|██████████| 31/31 [00:27<00:00,  1.14it/s]\n",
      "  0%|          | 0/10 [00:00<?, ?it/s]"
     ]
    },
    {
     "name": "stdout",
     "output_type": "stream",
     "text": [
      "('06c89f69aa7b5f9648d2c1543b8246fe9c3610cf', 'as long as the transmission of the virus from one person to another could be substantially and consistently interrupted', 1.74, ' Besides, because that anti-coronaviral drugs and vaccines are still under development [18, 19] , fear plays a role in the economic and social consequences, which was also a feature of SARS-CoV outbreak. Educating the communities and strengthening public confidence will thus be important. As long as the transmission of the virus from one person to another could be substantially and consistently interrupted (R < 1), it is entirely possible that the outbreak could be controlled and even eradicated, and this requires the joint efforts of the whole society', 0.23917325393925298, array([[0.9148396]], dtype=float32))\n"
     ]
    },
    {
     "name": "stderr",
     "output_type": "stream",
     "text": [
      "100%|██████████| 10/10 [00:08<00:00,  1.11it/s]\n",
      "  0%|          | 0/13 [00:00<?, ?it/s]"
     ]
    },
    {
     "name": "stdout",
     "output_type": "stream",
     "text": [
      "('ec53f9de631ca4386bc32b0947afc297418480f8', 'three months', 1.88, ' 1,2,5,6 These two features confer a high pandemic potential to the 2019-nCoV ( Table 2) . The next important factor to consider for the 2019-nCoV outbreak is our ability to contain the spread of this new virus. There was a lag of three months between the commencement of the SARS epidemic and the initiation of investigation by healthcare officials in 2003 in China', 0.23273961274903923, array([[0.91380036]], dtype=float32))\n"
     ]
    },
    {
     "name": "stderr",
     "output_type": "stream",
     "text": [
      "100%|██████████| 13/13 [00:13<00:00,  1.02s/it]"
     ]
    },
    {
     "name": "stdout",
     "output_type": "stream",
     "text": [
      "('8fc2cebc69f892528d29293bc14ba94237cfd77f', 'three months', 1.49, ' There was a lag of three months between the commencement of the SARS epidemic and the initiation of investigation by healthcare officials in 2003 in China. 10 Consequently, the infection spread to approximately 8100 people in 29 countries and resulted in 774 deaths. 10 Since mild illness is uncommon in SARS infection and infected individuals are easily identifiable, SARS could be contained effectively and eradicated without vaccination or effective antiviral therapy', 0.23325443287400643, array([[0.9130329]], dtype=float32))\n"
     ]
    },
    {
     "name": "stderr",
     "output_type": "stream",
     "text": [
      "\n"
     ]
    }
   ],
   "source": [
    "for answer in covid_q.predict(question):\n",
    "    print(answer)"
   ]
  }
 ],
 "metadata": {
  "kernelspec": {
   "display_name": "Python 3",
   "language": "python",
   "name": "python3"
  }
 },
 "nbformat": 4,
 "nbformat_minor": 4
}
